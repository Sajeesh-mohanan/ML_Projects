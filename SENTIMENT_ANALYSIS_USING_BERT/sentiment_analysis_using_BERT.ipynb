{
 "cells": [
  {
   "cell_type": "markdown",
   "id": "526f76f5-c367-4804-9cd8-0b9d4ad58a0a",
   "metadata": {},
   "source": [
    "## Import dependencies"
   ]
  },
  {
   "cell_type": "code",
   "execution_count": 2,
   "id": "9c378d3b-ce6f-493e-bbd9-40d3f2977ee9",
   "metadata": {
    "scrolled": true
   },
   "outputs": [
    {
     "name": "stdout",
     "output_type": "stream",
     "text": [
      "Looking in indexes: https://download.pytorch.org/whl/cu118\n",
      "Requirement already satisfied: torch in c:\\users\\asus\\anaconda3\\envs\\nlp_env\\lib\\site-packages (2.7.1+cu118)\n",
      "Requirement already satisfied: torchvision in c:\\users\\asus\\anaconda3\\envs\\nlp_env\\lib\\site-packages (0.22.1+cu118)\n",
      "Requirement already satisfied: torchaudio in c:\\users\\asus\\anaconda3\\envs\\nlp_env\\lib\\site-packages (2.7.1+cu118)\n",
      "Requirement already satisfied: filelock in c:\\users\\asus\\anaconda3\\envs\\nlp_env\\lib\\site-packages (from torch) (3.18.0)\n",
      "Requirement already satisfied: typing-extensions>=4.10.0 in c:\\users\\asus\\anaconda3\\envs\\nlp_env\\lib\\site-packages (from torch) (4.12.2)\n",
      "Requirement already satisfied: sympy>=1.13.3 in c:\\users\\asus\\anaconda3\\envs\\nlp_env\\lib\\site-packages (from torch) (1.14.0)\n",
      "Requirement already satisfied: networkx in c:\\users\\asus\\anaconda3\\envs\\nlp_env\\lib\\site-packages (from torch) (3.2.1)\n",
      "Requirement already satisfied: jinja2 in c:\\users\\asus\\anaconda3\\envs\\nlp_env\\lib\\site-packages (from torch) (3.1.6)\n",
      "Requirement already satisfied: fsspec in c:\\users\\asus\\anaconda3\\envs\\nlp_env\\lib\\site-packages (from torch) (2025.3.0)\n",
      "Requirement already satisfied: numpy in c:\\users\\asus\\anaconda3\\envs\\nlp_env\\lib\\site-packages (from torchvision) (1.26.4)\n",
      "Requirement already satisfied: pillow!=8.3.*,>=5.3.0 in c:\\users\\asus\\anaconda3\\envs\\nlp_env\\lib\\site-packages (from torchvision) (10.4.0)\n",
      "Requirement already satisfied: mpmath<1.4,>=1.1.0 in c:\\users\\asus\\anaconda3\\envs\\nlp_env\\lib\\site-packages (from sympy>=1.13.3->torch) (1.3.0)\n",
      "Requirement already satisfied: MarkupSafe>=2.0 in c:\\users\\asus\\anaconda3\\envs\\nlp_env\\lib\\site-packages (from jinja2->torch) (3.0.2)\n",
      "Note: you may need to restart the kernel to use updated packages.\n"
     ]
    }
   ],
   "source": [
    "pip install torch torchvision torchaudio --index-url https://download.pytorch.org/whl/cu118"
   ]
  },
  {
   "cell_type": "code",
   "execution_count": 1,
   "id": "ac81b444-610d-4cd4-bbfe-c7b4c6164fa0",
   "metadata": {
    "scrolled": true
   },
   "outputs": [
    {
     "name": "stdout",
     "output_type": "stream",
     "text": [
      "Requirement already satisfied: transformers in c:\\users\\asus\\anaconda3\\envs\\nlp_env\\lib\\site-packages (4.51.3)\n",
      "Requirement already satisfied: requests in c:\\users\\asus\\anaconda3\\envs\\nlp_env\\lib\\site-packages (2.32.3)\n",
      "Requirement already satisfied: beautifulsoup4 in c:\\users\\asus\\anaconda3\\envs\\nlp_env\\lib\\site-packages (4.12.3)\n",
      "Requirement already satisfied: pandas in c:\\users\\asus\\anaconda3\\envs\\nlp_env\\lib\\site-packages (2.2.3)\n",
      "Requirement already satisfied: numpy in c:\\users\\asus\\anaconda3\\envs\\nlp_env\\lib\\site-packages (1.26.4)\n",
      "Requirement already satisfied: filelock in c:\\users\\asus\\anaconda3\\envs\\nlp_env\\lib\\site-packages (from transformers) (3.18.0)\n",
      "Requirement already satisfied: huggingface-hub<1.0,>=0.30.0 in c:\\users\\asus\\anaconda3\\envs\\nlp_env\\lib\\site-packages (from transformers) (0.31.2)\n",
      "Requirement already satisfied: packaging>=20.0 in c:\\users\\asus\\anaconda3\\envs\\nlp_env\\lib\\site-packages (from transformers) (24.2)\n",
      "Requirement already satisfied: pyyaml>=5.1 in c:\\users\\asus\\anaconda3\\envs\\nlp_env\\lib\\site-packages (from transformers) (6.0.2)\n",
      "Requirement already satisfied: regex!=2019.12.17 in c:\\users\\asus\\anaconda3\\envs\\nlp_env\\lib\\site-packages (from transformers) (2024.11.6)\n",
      "Requirement already satisfied: tokenizers<0.22,>=0.21 in c:\\users\\asus\\anaconda3\\envs\\nlp_env\\lib\\site-packages (from transformers) (0.21.1)\n",
      "Requirement already satisfied: safetensors>=0.4.3 in c:\\users\\asus\\anaconda3\\envs\\nlp_env\\lib\\site-packages (from transformers) (0.5.3)\n",
      "Requirement already satisfied: tqdm>=4.27 in c:\\users\\asus\\anaconda3\\envs\\nlp_env\\lib\\site-packages (from transformers) (4.67.1)\n",
      "Requirement already satisfied: fsspec>=2023.5.0 in c:\\users\\asus\\anaconda3\\envs\\nlp_env\\lib\\site-packages (from huggingface-hub<1.0,>=0.30.0->transformers) (2025.3.0)\n",
      "Requirement already satisfied: typing-extensions>=3.7.4.3 in c:\\users\\asus\\anaconda3\\envs\\nlp_env\\lib\\site-packages (from huggingface-hub<1.0,>=0.30.0->transformers) (4.12.2)\n",
      "Requirement already satisfied: charset-normalizer<4,>=2 in c:\\users\\asus\\anaconda3\\envs\\nlp_env\\lib\\site-packages (from requests) (3.3.2)\n",
      "Requirement already satisfied: idna<4,>=2.5 in c:\\users\\asus\\anaconda3\\envs\\nlp_env\\lib\\site-packages (from requests) (3.10)\n",
      "Requirement already satisfied: urllib3<3,>=1.21.1 in c:\\users\\asus\\anaconda3\\envs\\nlp_env\\lib\\site-packages (from requests) (2.3.0)\n",
      "Requirement already satisfied: certifi>=2017.4.17 in c:\\users\\asus\\anaconda3\\envs\\nlp_env\\lib\\site-packages (from requests) (2025.4.26)\n",
      "Requirement already satisfied: soupsieve>1.2 in c:\\users\\asus\\anaconda3\\envs\\nlp_env\\lib\\site-packages (from beautifulsoup4) (2.5)\n",
      "Requirement already satisfied: python-dateutil>=2.8.2 in c:\\users\\asus\\anaconda3\\envs\\nlp_env\\lib\\site-packages (from pandas) (2.9.0.post0)\n",
      "Requirement already satisfied: pytz>=2020.1 in c:\\users\\asus\\anaconda3\\envs\\nlp_env\\lib\\site-packages (from pandas) (2025.2)\n",
      "Requirement already satisfied: tzdata>=2022.7 in c:\\users\\asus\\anaconda3\\envs\\nlp_env\\lib\\site-packages (from pandas) (2025.2)\n",
      "Requirement already satisfied: six>=1.5 in c:\\users\\asus\\anaconda3\\envs\\nlp_env\\lib\\site-packages (from python-dateutil>=2.8.2->pandas) (1.17.0)\n",
      "Requirement already satisfied: colorama in c:\\users\\asus\\anaconda3\\envs\\nlp_env\\lib\\site-packages (from tqdm>=4.27->transformers) (0.4.6)\n",
      "Note: you may need to restart the kernel to use updated packages.\n"
     ]
    }
   ],
   "source": [
    "pip install transformers requests beautifulsoup4 pandas numpy"
   ]
  },
  {
   "cell_type": "code",
   "execution_count": 1,
   "id": "b8c2a820-6e34-4d69-8c87-96de2d345646",
   "metadata": {},
   "outputs": [
    {
     "name": "stderr",
     "output_type": "stream",
     "text": [
      "C:\\Users\\ASUS\\anaconda3\\envs\\nlp_env\\lib\\site-packages\\requests\\__init__.py:86: RequestsDependencyWarning: Unable to find acceptable character detection dependency (chardet or charset_normalizer).\n",
      "  warnings.warn(\n",
      "C:\\Users\\ASUS\\anaconda3\\envs\\nlp_env\\lib\\site-packages\\tqdm\\auto.py:21: TqdmWarning: IProgress not found. Please update jupyter and ipywidgets. See https://ipywidgets.readthedocs.io/en/stable/user_install.html\n",
      "  from .autonotebook import tqdm as notebook_tqdm\n"
     ]
    }
   ],
   "source": [
    "from transformers import AutoTokenizer, AutoModelForSequenceClassification\n",
    "import torch\n",
    "import requests\n",
    "from bs4 import BeautifulSoup\n",
    "import re"
   ]
  },
  {
   "cell_type": "markdown",
   "id": "58f15798-5fd3-452c-b605-b375bfa613a1",
   "metadata": {},
   "source": [
    "## Instantiate Model"
   ]
  },
  {
   "cell_type": "code",
   "execution_count": 2,
   "id": "a03b62ec-286a-40c8-a082-4289ecc2ec30",
   "metadata": {},
   "outputs": [
    {
     "name": "stdout",
     "output_type": "stream",
     "text": [
      "WARNING:tensorflow:From C:\\Users\\ASUS\\anaconda3\\envs\\nlp_env\\lib\\site-packages\\keras\\src\\losses.py:2976: The name tf.losses.sparse_softmax_cross_entropy is deprecated. Please use tf.compat.v1.losses.sparse_softmax_cross_entropy instead.\n",
      "\n"
     ]
    }
   ],
   "source": [
    "tokenizer = AutoTokenizer.from_pretrained('nlptown/bert-base-multilingual-uncased-sentiment')\n",
    "\n",
    "model = AutoModelForSequenceClassification.from_pretrained('nlptown/bert-base-multilingual-uncased-sentiment')"
   ]
  },
  {
   "cell_type": "markdown",
   "id": "4667f5b9-fd06-412e-ba80-cb56f5d9cb07",
   "metadata": {},
   "source": [
    "## Encode and Calculate Sentiment"
   ]
  },
  {
   "cell_type": "code",
   "execution_count": 3,
   "id": "1e088259-38b7-44be-9895-3a3ff70e26e2",
   "metadata": {},
   "outputs": [],
   "source": [
    "tokens = tokenizer.encode('It was okay', return_tensors='pt')"
   ]
  },
  {
   "cell_type": "code",
   "execution_count": 4,
   "id": "cc70201a-19b5-45e0-9082-0f357b33ff52",
   "metadata": {},
   "outputs": [],
   "source": [
    "result = model(tokens)"
   ]
  },
  {
   "cell_type": "code",
   "execution_count": 5,
   "id": "75e528ae-80d2-430f-8d51-183beaa480dd",
   "metadata": {},
   "outputs": [
    {
     "data": {
      "text/plain": [
       "tensor([[-1.6243,  0.8367,  2.7918,  0.3680, -2.0830]],\n",
       "       grad_fn=<AddmmBackward0>)"
      ]
     },
     "execution_count": 5,
     "metadata": {},
     "output_type": "execute_result"
    }
   ],
   "source": [
    "result.logits"
   ]
  },
  {
   "cell_type": "code",
   "execution_count": 6,
   "id": "3dbbba3a-1c3c-4d70-b2e3-f9d9a5f66395",
   "metadata": {},
   "outputs": [
    {
     "data": {
      "text/plain": [
       "3"
      ]
     },
     "execution_count": 6,
     "metadata": {},
     "output_type": "execute_result"
    }
   ],
   "source": [
    "int(torch.argmax(result.logits))+1"
   ]
  },
  {
   "cell_type": "markdown",
   "id": "0d44c0bd-8f59-43c0-ba88-4bc3ab78cee1",
   "metadata": {},
   "source": [
    "## Collect Reviews"
   ]
  },
  {
   "cell_type": "code",
   "execution_count": 64,
   "id": "ea4e5256-6916-40ad-85be-a8bae43c0e58",
   "metadata": {},
   "outputs": [],
   "source": [
    "r = requests.get('https://www.yelp.com/biz/shabu-club-burlingame-2')\n",
    "soup = BeautifulSoup(r.text, 'html.parser')\n",
    "regex = re.compile('.*comment.*')\n",
    "results = soup.find_all('p', {'class':regex})\n",
    "reviews = [result.text for result in results]"
   ]
  },
  {
   "cell_type": "code",
   "execution_count": 74,
   "id": "cfbc002e-07c6-43fc-8123-a4704ad1a770",
   "metadata": {
    "scrolled": true
   },
   "outputs": [
    {
     "data": {
      "text/plain": [
       "[\"We had a great dinner at Shabu Club in Burlingame the other night. Everything from the moment we walked in was smooth and welcoming. We had a reservation and were seated right away. The staff was genuinely friendly and attentive without being overbearing.We went with the set menus instead of the all-you-can-eat, and I'm glad we did. The tonkatsu broth was delicious--really well balanced and comforting. All the veggies were super fresh, and the meat quality stood out--tender, nicely marbled, and flavorful.It's one of those places that feels like a true neighborhood spot. No fuss, just good food, great service, and a warm atmosphere. Definitely looking forward to coming back soon.\",\n",
       " \"First time here! This place was huge and had a lot of seating. We wanted Japanese shabu shabu, but left feeling like we ate more of a Chinese/Korean hot pot. Service was decent and the server was nice to give us different sauces since they only provided a complimentary ciltantro sauce. We ordered the gyoza, that was great, hit the spot. The hot pot, we got the Miso broth and the Spicy Tonkatsu broth. The miso broth was nothing like miso. I've had my fair share of miso soups, but this one was a little off. Couldn't see any of the miso paste nor did it taste like it. The spicy tonkatsu broth was very salty, but flavorful. Meal quality// the pork was tender and the american wagyu had good marbling and tasted fresh! Love the ice cream at the end and overall, decent hot pot spot and was nice dinner spot!\",\n",
       " \"The meat was just okay--nothing terrible, but definitely not up to my standards. The pork was on the lean side and tasted more like thinly sliced tenderloin, which didn't hit the mark for me. The lamb had a strong flavor, almost like goat, which I didn't enjoy. I tried both the miso and spicy tonkotsu broths, and they were just okay. The miso lacked that deep, savory miso flavor, and the tonkotsu tasted pretty generic. Nothing memorable.If I ever come back (though I probably won't), I'd skip the all-you-can-eat and just go a la carte for the beef. I also wasn't a fan of the cilantro sauce--it tasted a bit off. On top of that, the service could have been better. The servers weren't very attentive, and I don't like having to flag someone down just to get basic service. Overall, it was a so-so experience.\",\n",
       " \"Came here a week ago and was impressed with the meat quality. I didn't like the previous place that was here because of the quality and was delighted this place decided to step it up. Came here again today and I got plate after plate of lean meat. After eating 6 plates of meat as chewy as pho Tai eye of round steak, I asked the waitress if I can get fattier cuts, and I got 2 plates of meat that had no marbling and just a thick section of fat.If you're going to be more expensive than your next 10 local ayce competitors, please don't serve crappy meat and call it wagyu. The a la carte orders at the neighboring tables were all high quality, so I know you guys have good quality cuts, not sure why you guys are trying to piss off your ayce customers. If you're going to do that, just don't offer ayce, or offer it cheaper if you're going to stick them with the inferior cuts. Picture is what I was getting stuck with all night.\",\n",
       " \"Very underwhelming. Below average for Bay Area hotpot.  The meat didn't taste premium at all even for the Kurobuta pork and American beef wagyu.  The meat didn't have any melt in your mouth sensation. We got a large, two meat set which the server said was 8 oz of meats in total.  The cilantro dip was decent and the ponzu sauce was very basic. It would be nice to have more variety of sauces. The assorted veggies consisted of a handful of white mushrooms, two baby carrots, a handful of spinach and Napa cabbage, and one serving of udon noodles. The broths were pretty basic and lacked depth of flavor. The set also came with one bowl of rice and one serving of ice cream and cone which was very basic. Inside layout was a nice use of space with minimal decor. Service was average.\",\n",
       " 'Decided to try Shabu Club on a Friday night with the hubby for date night. Was surprised they opened one in Burlingame and it looks like it still in the soft opening stage. Anyway, I didn\\'t know that we had to make reservations but they did have a waitlist. Waited probably around 30 mins. Also, parking is very hard. Hubby had to go around a few times and it was just very difficult.As we were seated we were immediately warned that they\\'re enforcing the 90 minute limit. Assuming we got the AYCE option maybe? There is an AYCE option and a set option. We opted for the set. Both of us got large Wagyu. I got the spicy tonkatsu broth and hubby got spicy miso. Lots of veggies and also the meat was plenty. The cilantro dipping sauce was good but if you don\\'t like cilantro, they\\'ll give you ponzu. We asked a few times if we can have the sauce without cilantro but I guess there\\'s no way they can give it to us without it. It\\'s straight ponzu. -1 star for this. After dinner we had ice cream which was part of the set. Hubby asked for mango, but server gave him black sesame since the table next to us also had black sesame so she might\\'ve forgotten. Anyway, after ice cream, our server was near us, saw us leave and didn\\'t even acknowledge us. She looked at us, and didn\\'t even say \"thanks have a good night\" uhh okay? I guess. So that\\'s another -1 star. It was off putting. We understood it\\'s busy but please next time be more patient and also make sure to greet your customers. You never know who\\'s a mystery diner or a Yelp Elite dining.',\n",
       " 'Hi Marie,Thanks for coming in and giving us a try. We do have some new staff members so we appreciate you being patient with them. Parking can be a bit difficult on the weekends. There are plenty of parking spaces in the residential area a block down from us if next time you would like to come visit us again. We apologize about the ice cream mix up; we can certainly fix it for you if we made a mistake. For the sauce, we pre-make our secret green sauce; unfortunately if you are not a fan of cilantro, we can only substitute it with the traditional ponzu and goma sauces as cilantro is the main ingredient in the house sauce. I’ll remind the staff to greet and thank our customers on their way in and out of the restaurant as we do value our guests and hope they enjoy their dining experience with us!Best,Shabu Club ',\n",
       " \"Maybe this location is still new, but it needs improvement in  several aspects. I came with a group of 6 and we shared two SMALL pots of broth, it was barely enough space to cook the veggies and meat at the same time. Definitely used to the individual pots offered at their SF location. If the option is not available due to the build of the table, then have larger pots? This should be taken consideration since there were only two heat tops at the larger table. Call ahead and make a reservation if possible, because even with reservations, it was still a 35minute wait.Waitresses were lacking on a Saturday evening. The service was slow, inefficient and unattentive. It took awhile to put an order in and to get the bill and this is with us actively flagging them down. Most of the waitresses were just mingling behind the bar. I suppose this was a common issue at the other location as well. During the second round, instead of providing the type of meat, I asked for a specific number of trays to speed up the process. The meat quality is decent and the highlight of why I love Shabu Club so much is because of their cilantro and sesame sauce.  One of our friend isn't good with chopsticks so we requested a fork. He was given a plastic mini fork and when we asked if they had a larger one, they said no. Plastic and hot broth doesn't really mix, especially with a grown adult eating with a mini fork.. When I saw forks at another table mid-dinner, I requested it again specifying that I wanted a metal adult sized fork and we got it with another waiter. Our friends were from out of town so we wanted to bring them to a good restaurant and they had quite the experience. I'll give it some time, my next visit will be when I crave their cilantro and sesame sauce.\",\n",
       " 'Hi Deanna, Thanks for visiting our new location. The tables were built with smaller cut outs for the pot to sit in so we are still trying to source out a deeper pot that can fit into that space (it’s a very specific size); we apologize for that. As for the forks, since reading your review, we have purchased more so that we have enough for everyone who needs them. We feel bad that it wasn’t the best experience for your friends from out of town. We are still working out the kinks of the new restaurant but hope you come back to give us another try as we strive to improve each day. Best regards,Shabu Club ',\n",
       " \"New location of Shabu Club opened up in Burlingame! It's still their soft opening and it's probably best to make a reservation. We did the opposite and risked it, only to be told that we can get a table if a reservation is a no show. But we were offered counter seating immediately, so it worked out for our party of 4. I had never been before and was told that the large order should be more than enough food. I ended up ordering the pick 2 meats (wagyu and lamb), miso broth, and udon noodles. The order also came with a bowl of rice and some veggies and tofu for the broth. We also all shared a plate of the fries. Overall: meat quality was excellent. Very tender and fresh, melts in your mouth, and tastes high quality. Pairs well with the garlic onion sauce and rice. I didn't love their veggie plate and only ate the cabbage and tofu. I think they could give more variety and higher quality of veggies than what was provided. You also get ice cream for dessert! Portion size was definitely enough and service was nice and attentive. Would definitely return, but when the hype dies down.\",\n",
       " 'my fav shabu place. they make a unique sauce for u that I enjoy dipping my meat and veggies in. gives a good amount of veggies and meat portions. came here during happy hour so we tried the appetizers and the chicken wings were so good.',\n",
       " \"So glad they opened another location, but sad it took over Shabu House.Tried Shabu Club a few years back at the Clement, SF location and loved their shabu house sauce.Easily made reservations a few days prior through the app for a Friday night and our table was ready immediately upon arrival. Highly recommend reservations if you're aiming for Friday and weekend dinner rush hour.My friend and I went for their AYCE and we really enjoyed the fast service, quality of lamb and their sauces.AYCEBroth: mushroom broth & spicy misoSides: Vegetable bowl comes with a choice of udon or ramenProtein: beef & lambSauce: House (green), ponzu, and sesameTheir regular set would have actually been more than enough food, really liked their lamb. It was tender and not too gamey.Interior hasn't changed much. It's still very open and good airflow. We enjoyed our meal and have gone back. Pretty consistent service.\"]"
      ]
     },
     "execution_count": 74,
     "metadata": {},
     "output_type": "execute_result"
    }
   ],
   "source": [
    "reviews"
   ]
  },
  {
   "cell_type": "markdown",
   "id": "fa9acd8d-7507-4422-9e77-f4362f7cea82",
   "metadata": {},
   "source": [
    "## load reviews into DataFrame and Score"
   ]
  },
  {
   "cell_type": "code",
   "execution_count": 66,
   "id": "05e5f54a-d2ca-4f91-a31e-93bd5855d66b",
   "metadata": {},
   "outputs": [],
   "source": [
    "import pandas as pd\n",
    "import numpy as np"
   ]
  },
  {
   "cell_type": "code",
   "execution_count": 67,
   "id": "b49ab81d-ca77-4186-96a7-25514c09bc47",
   "metadata": {},
   "outputs": [],
   "source": [
    "df = pd.DataFrame(np.array(reviews), columns=['review'])"
   ]
  },
  {
   "cell_type": "code",
   "execution_count": 68,
   "id": "88463e78-87db-450d-b325-24c2f3f5ded2",
   "metadata": {},
   "outputs": [
    {
     "data": {
      "text/html": [
       "<div>\n",
       "<style scoped>\n",
       "    .dataframe tbody tr th:only-of-type {\n",
       "        vertical-align: middle;\n",
       "    }\n",
       "\n",
       "    .dataframe tbody tr th {\n",
       "        vertical-align: top;\n",
       "    }\n",
       "\n",
       "    .dataframe thead th {\n",
       "        text-align: right;\n",
       "    }\n",
       "</style>\n",
       "<table border=\"1\" class=\"dataframe\">\n",
       "  <thead>\n",
       "    <tr style=\"text-align: right;\">\n",
       "      <th></th>\n",
       "      <th>review</th>\n",
       "    </tr>\n",
       "  </thead>\n",
       "  <tbody>\n",
       "    <tr>\n",
       "      <th>0</th>\n",
       "      <td>We had a great dinner at Shabu Club in Burling...</td>\n",
       "    </tr>\n",
       "    <tr>\n",
       "      <th>1</th>\n",
       "      <td>First time here! This place was huge and had a...</td>\n",
       "    </tr>\n",
       "    <tr>\n",
       "      <th>2</th>\n",
       "      <td>The meat was just okay--nothing terrible, but ...</td>\n",
       "    </tr>\n",
       "    <tr>\n",
       "      <th>3</th>\n",
       "      <td>Came here a week ago and was impressed with th...</td>\n",
       "    </tr>\n",
       "    <tr>\n",
       "      <th>4</th>\n",
       "      <td>Very underwhelming. Below average for Bay Area...</td>\n",
       "    </tr>\n",
       "  </tbody>\n",
       "</table>\n",
       "</div>"
      ],
      "text/plain": [
       "                                              review\n",
       "0  We had a great dinner at Shabu Club in Burling...\n",
       "1  First time here! This place was huge and had a...\n",
       "2  The meat was just okay--nothing terrible, but ...\n",
       "3  Came here a week ago and was impressed with th...\n",
       "4  Very underwhelming. Below average for Bay Area..."
      ]
     },
     "execution_count": 68,
     "metadata": {},
     "output_type": "execute_result"
    }
   ],
   "source": [
    "df.head()"
   ]
  },
  {
   "cell_type": "code",
   "execution_count": 69,
   "id": "9bf427f3-56d0-4e6d-b674-ce0fd828a2aa",
   "metadata": {},
   "outputs": [
    {
     "data": {
      "text/plain": [
       "\"We had a great dinner at Shabu Club in Burlingame the other night. Everything from the moment we walked in was smooth and welcoming. We had a reservation and were seated right away. The staff was genuinely friendly and attentive without being overbearing.We went with the set menus instead of the all-you-can-eat, and I'm glad we did. The tonkatsu broth was delicious--really well balanced and comforting. All the veggies were super fresh, and the meat quality stood out--tender, nicely marbled, and flavorful.It's one of those places that feels like a true neighborhood spot. No fuss, just good food, great service, and a warm atmosphere. Definitely looking forward to coming back soon.\""
      ]
     },
     "execution_count": 69,
     "metadata": {},
     "output_type": "execute_result"
    }
   ],
   "source": [
    "df['review'].iloc[0]"
   ]
  },
  {
   "cell_type": "code",
   "execution_count": 70,
   "id": "7918d582-cc44-4f14-920a-23390547876d",
   "metadata": {},
   "outputs": [],
   "source": [
    "def sentiment_score(review):\n",
    "    tokens = tokenizer.encode(review, return_tensors='pt')\n",
    "    result = model(tokens)\n",
    "    return int(torch.argmax(result.logits))+1"
   ]
  },
  {
   "cell_type": "code",
   "execution_count": 71,
   "id": "5c40904b-a937-4f40-8cf8-f4e5cecb5ee0",
   "metadata": {},
   "outputs": [
    {
     "data": {
      "text/plain": [
       "5"
      ]
     },
     "execution_count": 71,
     "metadata": {},
     "output_type": "execute_result"
    }
   ],
   "source": [
    "sentiment_score(df['review'].iloc[0])"
   ]
  },
  {
   "cell_type": "code",
   "execution_count": 72,
   "id": "6114fb41-cddd-444f-917d-3eaa82197de7",
   "metadata": {},
   "outputs": [],
   "source": [
    "df['Sentiment'] = df['review'].apply(lambda x: sentiment_score(x[:512]))"
   ]
  },
  {
   "cell_type": "code",
   "execution_count": 73,
   "id": "cb85c7b6-6111-4a3e-a2f0-4c850056f661",
   "metadata": {},
   "outputs": [
    {
     "data": {
      "text/html": [
       "<div>\n",
       "<style scoped>\n",
       "    .dataframe tbody tr th:only-of-type {\n",
       "        vertical-align: middle;\n",
       "    }\n",
       "\n",
       "    .dataframe tbody tr th {\n",
       "        vertical-align: top;\n",
       "    }\n",
       "\n",
       "    .dataframe thead th {\n",
       "        text-align: right;\n",
       "    }\n",
       "</style>\n",
       "<table border=\"1\" class=\"dataframe\">\n",
       "  <thead>\n",
       "    <tr style=\"text-align: right;\">\n",
       "      <th></th>\n",
       "      <th>review</th>\n",
       "      <th>Sentiment</th>\n",
       "    </tr>\n",
       "  </thead>\n",
       "  <tbody>\n",
       "    <tr>\n",
       "      <th>0</th>\n",
       "      <td>We had a great dinner at Shabu Club in Burling...</td>\n",
       "      <td>5</td>\n",
       "    </tr>\n",
       "    <tr>\n",
       "      <th>1</th>\n",
       "      <td>First time here! This place was huge and had a...</td>\n",
       "      <td>4</td>\n",
       "    </tr>\n",
       "    <tr>\n",
       "      <th>2</th>\n",
       "      <td>The meat was just okay--nothing terrible, but ...</td>\n",
       "      <td>3</td>\n",
       "    </tr>\n",
       "    <tr>\n",
       "      <th>3</th>\n",
       "      <td>Came here a week ago and was impressed with th...</td>\n",
       "      <td>4</td>\n",
       "    </tr>\n",
       "    <tr>\n",
       "      <th>4</th>\n",
       "      <td>Very underwhelming. Below average for Bay Area...</td>\n",
       "      <td>2</td>\n",
       "    </tr>\n",
       "    <tr>\n",
       "      <th>5</th>\n",
       "      <td>Decided to try Shabu Club on a Friday night wi...</td>\n",
       "      <td>2</td>\n",
       "    </tr>\n",
       "    <tr>\n",
       "      <th>6</th>\n",
       "      <td>Hi Marie,Thanks for coming in and giving us a ...</td>\n",
       "      <td>4</td>\n",
       "    </tr>\n",
       "    <tr>\n",
       "      <th>7</th>\n",
       "      <td>Maybe this location is still new, but it needs...</td>\n",
       "      <td>3</td>\n",
       "    </tr>\n",
       "    <tr>\n",
       "      <th>8</th>\n",
       "      <td>Hi Deanna, Thanks for visiting our new locatio...</td>\n",
       "      <td>4</td>\n",
       "    </tr>\n",
       "    <tr>\n",
       "      <th>9</th>\n",
       "      <td>New location of Shabu Club opened up in Burlin...</td>\n",
       "      <td>4</td>\n",
       "    </tr>\n",
       "    <tr>\n",
       "      <th>10</th>\n",
       "      <td>my fav shabu place. they make a unique sauce f...</td>\n",
       "      <td>5</td>\n",
       "    </tr>\n",
       "    <tr>\n",
       "      <th>11</th>\n",
       "      <td>So glad they opened another location, but sad ...</td>\n",
       "      <td>4</td>\n",
       "    </tr>\n",
       "  </tbody>\n",
       "</table>\n",
       "</div>"
      ],
      "text/plain": [
       "                                               review  Sentiment\n",
       "0   We had a great dinner at Shabu Club in Burling...          5\n",
       "1   First time here! This place was huge and had a...          4\n",
       "2   The meat was just okay--nothing terrible, but ...          3\n",
       "3   Came here a week ago and was impressed with th...          4\n",
       "4   Very underwhelming. Below average for Bay Area...          2\n",
       "5   Decided to try Shabu Club on a Friday night wi...          2\n",
       "6   Hi Marie,Thanks for coming in and giving us a ...          4\n",
       "7   Maybe this location is still new, but it needs...          3\n",
       "8   Hi Deanna, Thanks for visiting our new locatio...          4\n",
       "9   New location of Shabu Club opened up in Burlin...          4\n",
       "10  my fav shabu place. they make a unique sauce f...          5\n",
       "11  So glad they opened another location, but sad ...          4"
      ]
     },
     "execution_count": 73,
     "metadata": {},
     "output_type": "execute_result"
    }
   ],
   "source": [
    "df"
   ]
  },
  {
   "cell_type": "code",
   "execution_count": null,
   "id": "eca6a512-fffd-4ec6-ae29-d13b099749c9",
   "metadata": {},
   "outputs": [],
   "source": []
  }
 ],
 "metadata": {
  "kernelspec": {
   "display_name": "Python 3 (ipykernel)",
   "language": "python",
   "name": "python3"
  },
  "language_info": {
   "codemirror_mode": {
    "name": "ipython",
    "version": 3
   },
   "file_extension": ".py",
   "mimetype": "text/x-python",
   "name": "python",
   "nbconvert_exporter": "python",
   "pygments_lexer": "ipython3",
   "version": "3.9.21"
  }
 },
 "nbformat": 4,
 "nbformat_minor": 5
}
